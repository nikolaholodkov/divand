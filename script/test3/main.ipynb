{
 "cells": [
  {
   "cell_type": "markdown",
   "id": "bc6c5f19",
   "metadata": {},
   "source": [
    "# DIVAnd Oceanographic Data Analysis - Adriatic Sea Salinity\n",
    "\n",
    "This notebook performs a 3D oceanographic data analysis using DIVAnd (Data-Interpolating Variational Analysis in n-dimensions) to interpolate salinity data in the Adriatic Sea. The analysis creates spatially and temporally resolved salinity fields from sparse observational data.\n",
    "\n",
    "## Workflow Overview:\n",
    "1. **Setup & Configuration** - Import packages and define analysis parameters\n",
    "2. **Data Acquisition** - Download observational and bathymetry data\n",
    "3. **Data Visualization** - Plot observation locations and bathymetry\n",
    "4. **Domain Preparation** - Create and edit analysis masks\n",
    "5. **Data Quality Control** - Filter observations for realistic values\n",
    "6. **Analysis Parameters** - Configure DIVAnd correlation lengths and regularization\n",
    "7. **Output Configuration** - Set up NetCDF file structure and metadata\n",
    "8. **Analysis Execution** - Run the main DIVAnd interpolation"
   ]
  },
  {
   "cell_type": "markdown",
   "id": "2283b1b3",
   "metadata": {},
   "source": [
    "## 1. Package Imports and Basic Setup\n",
    "\n",
    "Import all required Julia packages for oceanographic data analysis:"
   ]
  },
  {
   "cell_type": "code",
   "execution_count": null,
   "id": "20769c92",
   "metadata": {},
   "outputs": [],
   "source": [
    "# Import required Julia packages for oceanographic data analysis\n",
    "using NCDatasets      # For reading and writing NetCDF files\n",
    "using PhysOcean       # Physical oceanography utilities\n",
    "using DataStructures  # For ordered dictionaries and other data structures\n",
    "using DIVAnd          # Data-Interpolating Variational Analysis in n-dimensions\n",
    "using PyPlot          # Plotting library (matplotlib wrapper)\n",
    "using Dates           # Date and time handling\n",
    "using Statistics      # Statistical functions (mean, etc.)\n",
    "using Random          # Random number generation\n",
    "using Printf          # String formatting with printf-style syntax"
   ]
  },
  {
   "cell_type": "code",
   "execution_count": 5,
   "id": "c4b5c427",
   "metadata": {},
   "outputs": [
    {
     "data": {
      "text/plain": [
       "\"data.nc\""
      ]
     },
     "metadata": {},
     "output_type": "display_data"
    }
   ],
   "source": [
    "# Example: Open and read a NetCDF file\n",
    "# Replace \"your_file.nc\" with the actual filename you want to read\n",
    "datafile = \"data.nc\""
   ]
  },
  {
   "cell_type": "code",
   "execution_count": null,
   "id": "f3c4f5c9",
   "metadata": {},
   "outputs": [],
   "source": [
    "# Check if file exists\n",
    "if isfile(filename)\n",
    "    # Open the NetCDF file\n",
    "    NCDatasets.Dataset(filename, \"r\") do ds\n",
    "        println(\"File opened successfully: $filename\")\n",
    "        \n",
    "        # List all variables in the file\n",
    "        println(\"\\nAvailable variables:\")\n",
    "        for (varname, var) in ds\n",
    "            println(\"  $varname: $(size(var)) - $(typeof(var))\")\n",
    "            # Print attributes if any\n",
    "            if length(keys(var.attrib)) > 0\n",
    "                println(\"    Attributes: $(keys(var.attrib))\")\n",
    "            end\n",
    "        end\n",
    "        \n",
    "        # List global attributes\n",
    "        println(\"\\nGlobal attributes:\")\n",
    "        for (attr_name, attr_value) in ds.attrib\n",
    "            println(\"  $attr_name: $attr_value\")\n",
    "        end\n",
    "        \n",
    "        # Example: Read a specific variable (replace 'variable_name' with actual variable)\n",
    "        # if haskey(ds, \"variable_name\")\n",
    "        #     data = ds[\"variable_name\"][:]\n",
    "        #     println(\"\\nVariable data shape: $(size(data))\")\n",
    "        #     println(\"Variable data type: $(typeof(data))\")\n",
    "        # end\n",
    "    end\n",
    "else\n",
    "    println(\"File not found: $filename\")\n",
    "    println(\"Please check the filename and path.\")\n",
    "end"
   ]
  },
  {
   "cell_type": "markdown",
   "id": "183d62d9",
   "metadata": {},
   "source": [
    "## 2. Spatial and Temporal Domain Configuration\n",
    "\n",
    "Define the analysis grid parameters, spatial boundaries, and time periods:"
   ]
  },
  {
   "cell_type": "code",
   "execution_count": 9,
   "id": "c34a17af",
   "metadata": {},
   "outputs": [
    {
     "name": "stdout",
     "output_type": "stream",
     "text": [
      "TS = TimeSelectorYearListMonthList{Vector{UnitRange{Int64}}, Vector{Vector{Int64}}}(UnitRange{Int64}[2003:2012], [[1, 2, 3], [4, 5, 6], [7, 8, 9], [10, 11, 12]])\n"
     ]
    }
   ],
   "source": [
    "# Define spatial grid parameters for the Mediterranean Sea analysis\n",
    "dx, dy = 0.125, 0.125  # Grid resolution in degrees (longitude, latitude)\n",
    "lonr = -6:dx:37        # Longitude range from -6° to 37° E covering entire Mediterranean\n",
    "latr = 30:dy:46        # Latitude range from 30° to 46° N covering entire Mediterranean\n",
    "timerange = [Date(2003,06,06),Date(2012,01,01)];  # Time period for analysis\n",
    "\n",
    "# Define depth levels for chlorophyll-a 3D analysis (in meters)\n",
    "# Chlorophyll-a is primarily found in the euphotic zone (0-150m depth)\n",
    "# Full depth range commented out, focusing on biologically relevant depths\n",
    "depthr = [0.,5., 10., 15., 20., 25., 30., 40., 50., 66, \n",
    "    75, 85, 100, 112, 125, 135, 150, 175, 200, 225, 250, \n",
    "    275, 300, 350, 400, 450, 500, 550, 600, 650, 700, 750, \n",
    "    800, 850, 900, 950, 1000, 1050, 1100, 1150, 1200, 1250, \n",
    "    1300, 1350, 1400, 1450, 1500, 1600, 1750, 1850, 2000];\n",
    "\n",
    "# Reduced depth levels for faster computation - key chlorophyll-a depths only\n",
    "depthr = [0., 10., 25., 50., 100., 150.];  # 6 key depths covering main chlorophyll features\n",
    "\n",
    "# Define analysis parameters\n",
    "varname = \"Water body chlorophyll-a\"    # Variable being analyzed (using correct long_name)\n",
    "yearlist = [2003:2012]; # Years to include in analysis\n",
    "monthlist = [[1,2,3],[4,5,6],[7,8,9],[10,11,12]]; # Seasonal groupings (quarters)\n",
    "\n",
    "# Create time selector for seasonal analysis\n",
    "TS = DIVAnd.TimeSelectorYearListMonthList(yearlist,monthlist);\n",
    "@show TS;"
   ]
  },
  {
   "cell_type": "markdown",
   "id": "f13158e6",
   "metadata": {},
   "source": [
    "## 3. Observational Data Download and Loading\n",
    "\n",
    "Download salinity observation data from SeaDataNet. Two datasets are available:\n",
    "- Small test dataset (1000 observations) for quick testing\n",
    "- Full dataset for complete analysis"
   ]
  },
  {
   "cell_type": "code",
   "execution_count": 10,
   "id": "452a2281",
   "metadata": {},
   "outputs": [
    {
     "name": "stdout",
     "output_type": "stream",
     "text": [
      "6600 out of 30189 - 21.862267713405544 %\n",
      "13130 out of 30189 - 43.49266289045679 %\n",
      "19860 out of 30189 - 65.78555102852032 %\n",
      "26570 out of 30189 - 88.01218987048263 %\n",
      "  9.355467 seconds (1.18 M allocations: 55.139 MiB, 0.14% gc time)\n"
     ]
    }
   ],
   "source": [
    "# Load observational data from NetCDF files\n",
    "# First load from small dataset (for testing)\n",
    "@time obsval,obslon,obslat,obsdepth,obstime,obsid = NCODV.load(Float64, datafile, \n",
    "    \"Water body chlorophyll-a\");"
   ]
  },
  {
   "cell_type": "markdown",
   "id": "83cb7027",
   "metadata": {},
   "source": [
    "## 4. Observational Data Visualization and Quality Check\n",
    "\n",
    "Plot the geographic distribution of observation points and perform basic quality checks:"
   ]
  },
  {
   "cell_type": "code",
   "execution_count": 11,
   "id": "c8fc72cc",
   "metadata": {},
   "outputs": [
    {
     "name": "stdout",
     "output_type": "stream",
     "text": [
      "              minimum and maximum of obs. dimension 1: (3.2175331115722656, 19.19866943359375)\n",
      "              minimum and maximum of obs. dimension 2: (39.10667037963867, 45.77027893066406)\n",
      "              minimum and maximum of obs. dimension 3: (0.0, 100.0)\n",
      "              minimum and maximum of obs. dimension 4: ("
     ]
    },
    {
     "name": "stderr",
     "output_type": "stream",
     "text": [
      "┌ Info: Checking ranges for dimensions and observations\n",
      "└ @ DIVAnd C:\\Users\\nholodkov\\.julia\\packages\\DIVAnd\\4UymR\\src\\obsstat.jl:77\n"
     ]
    },
    {
     "name": "stdout",
     "output_type": "stream",
     "text": [
      "DateTime(\"2003-01-07T12:07:21\"), DateTime(\"2012-12-28T08:04:25\"))\n",
      "                          minimum and maximum of data: (9.999999747378752e-5, 147.0)\n"
     ]
    }
   ],
   "source": [
    "# Create a figure showing the geographic distribution of observation points\n",
    "figure(\"Adriatic-Data\")\n",
    "ax = subplot(1,1,1)\n",
    "plot(obslon, obslat, \"ko\", markersize=.1)  # Plot observation locations as small black dots\n",
    "aspectratio = 1/cos(mean(latr) * pi/180)   # Calculate proper aspect ratio for latitude\n",
    "ax.tick_params(\"both\",labelsize=6)\n",
    "gca().set_aspect(aspectratio)\n",
    "\n",
    "# Check quality and consistency of observations\n",
    "checkobs((obslon,obslat,obsdepth,obstime),obsval,obsid)"
   ]
  },
  {
   "cell_type": "markdown",
   "id": "066a27b0",
   "metadata": {},
   "source": [
    "## 5. Bathymetry Data Processing\n",
    "\n",
    "Download and process bathymetry (seafloor depth) data needed for creating land/sea masks:"
   ]
  },
  {
   "cell_type": "code",
   "execution_count": 12,
   "id": "e41f592f",
   "metadata": {},
   "outputs": [],
   "source": [
    "## Download bathymetry data (seafloor depth) for the region\n",
    "#bathname = \"gebco_30sec_8.nc\"\n",
    "#if !isfile(bathname)\n",
    "#    download(\"https://dox.ulg.ac.be/index.php/s/U0pqyXhcQrXjEUX/download\",bathname)\n",
    "#else\n",
    "#    @info(\"Bathymetry file already downloaded\")\n",
    "#end\n",
    "#\n",
    "## Load bathymetry data and interpolate to our grid\n",
    "#@time bx,by,b = load_bath(bathname,true,lonr,latr);"
   ]
  },
  {
   "cell_type": "code",
   "execution_count": 14,
   "id": "a727f2ab",
   "metadata": {},
   "outputs": [
    {
     "name": "stdout",
     "output_type": "stream",
     "text": [
      "  1.688142 seconds (6.63 M allocations: 338.347 MiB, 3.71% gc time, 99.61% compilation time)\n",
      "size(mask) = (345, 129, 6)\n",
      "size(mask_edit) = (345, 129, 6)\n"
     ]
    },
    {
     "data": {
      "text/plain": [
       "PyObject Text(0.5, 1.0, 'Mediterranean Sea Edited Mask')"
      ]
     },
     "metadata": {},
     "output_type": "display_data"
    }
   ],
   "source": [
    "bathname = \"gebco_30sec_8.nc\"\n",
    "#if !isfile(bathname)\n",
    "#    download(\"https://dox.ulg.ac.be/index.php/s/U0pqyXhcQrXjEUX/download\",bathname)\n",
    "#else\n",
    "#    @info(\"Bathymetry file already downloaded\")\n",
    "#end\n",
    "\n",
    "# Load bathymetry data and interpolate to our Mediterranean grid\n",
    "@time bx,by,b = load_bath(bathname,true,lonr,latr);\n",
    "\n",
    "# Plot the bathymetry data for the Mediterranean Sea\n",
    "figure(\"Mediterranean-Bathymetry\")\n",
    "ax = subplot(1,1,1)\n",
    "pcolor(bx, by, permutedims(b, [2,1]));  # Create colored map of bathymetry\n",
    "colorbar(orientation=\"vertical\", shrink=0.8).ax.tick_params(labelsize=8)\n",
    "contour(bx, by, permutedims(b, [2,1]), [0, 0.1], colors=\"k\", linewidths=.5)  # Add coastline contour\n",
    "gca().set_aspect(aspectratio)\n",
    "ax.tick_params(\"both\",labelsize=6)\n",
    "title(\"Mediterranean Sea Bathymetry\")\n",
    "\n",
    "# ========================================================================\n",
    "# MASK CREATION AND EDITING FOR MEDITERRANEAN ANALYSIS DOMAIN\n",
    "# ========================================================================\n",
    "\n",
    "# Create a 3D mask for the Mediterranean analysis domain\n",
    "# This mask determines which grid points are valid for analysis (water vs land)\n",
    "mask = falses(size(b,1),size(b,2),length(depthr))\n",
    "for k = 1:length(depthr)\n",
    "    for j = 1:size(b,2)\n",
    "        for i = 1:size(b,1)\n",
    "            mask[i,j,k] = b[i,j] >= depthr[k]  # True where water depth >= analysis depth\n",
    "        end\n",
    "    end\n",
    "end\n",
    "@show size(mask)\n",
    "\n",
    "# Plot the initial mask (surface level) for Mediterranean\n",
    "figure(\"Mediterranean-Mask\")\n",
    "ax = subplot(1,1,1)\n",
    "gca().set_aspect(aspectratio)\n",
    "ax.tick_params(\"both\",labelsize=6)\n",
    "pcolor(bx,by, transpose(mask[:,:,1])); \n",
    "title(\"Mediterranean Sea Initial Mask\")\n",
    "\n",
    "# Create coordinate grids for mask editing\n",
    "grid_bx = [i for i in bx, j in by];\n",
    "grid_by = [j for i in bx, j in by];\n",
    "\n",
    "# Edit the mask to remove specific regions (adapted for Mediterranean)\n",
    "mask_edit = copy(mask);\n",
    "# Remove Atlantic Ocean areas west of Gibraltar (longitude < -5.5°)\n",
    "sel_mask1 = (grid_bx .<= -5.5);  \n",
    "# Remove Black Sea connections (north of 42° and east of 27°)\n",
    "sel_mask2 = (grid_by .>= 42.0) .& (grid_bx .>= 27.0);\n",
    "# Remove areas that are too far north (> 45.5°) to focus on main Mediterranean basin\n",
    "sel_mask3 = (grid_by .>= 45.5);\n",
    "# Apply all mask edits\n",
    "mask_edit = mask_edit .* .!sel_mask1 .* .!sel_mask2 .* .!sel_mask3;\n",
    "@show size(mask_edit)\n",
    "\n",
    "# Plot the edited mask for Mediterranean\n",
    "figure(\"Mediterranean-Mask-Edited\")\n",
    "ax = subplot(1,1,1)\n",
    "ax.tick_params(\"both\",labelsize=6)\n",
    "pcolor(bx, by, transpose(mask_edit[:,:,1])); \n",
    "gca().set_aspect(aspectratio)\n",
    "title(\"Mediterranean Sea Edited Mask\")"
   ]
  },
  {
   "cell_type": "markdown",
   "id": "4d9d9b1c",
   "metadata": {},
   "source": [
    "## 6. Analysis Domain Mask Creation and Editing\n",
    "\n",
    "Create 3D masks that define where the analysis should be performed (water vs land) and edit them to exclude specific regions:"
   ]
  },
  {
   "cell_type": "code",
   "execution_count": 15,
   "id": "b090a883",
   "metadata": {},
   "outputs": [
    {
     "name": "stdout",
     "output_type": "stream",
     "text": [
      "size(mask) = (345, 129, 6)\n"
     ]
    },
    {
     "data": {
      "text/plain": [
       "(345, 129, 6)"
      ]
     },
     "metadata": {},
     "output_type": "display_data"
    }
   ],
   "source": [
    "# Create a 3D mask for the analysis domain\n",
    "# This mask determines which grid points are valid for analysis (water vs land)\n",
    "mask = falses(size(b,1),size(b,2),length(depthr))\n",
    "for k = 1:length(depthr)\n",
    "    for j = 1:size(b,2)\n",
    "        for i = 1:size(b,1)\n",
    "            mask[i,j,k] = b[i,j] >= depthr[k]  # True where water depth >= analysis depth\n",
    "        end\n",
    "    end\n",
    "end\n",
    "@show size(mask)"
   ]
  },
  {
   "cell_type": "code",
   "execution_count": 16,
   "id": "24189f7e",
   "metadata": {},
   "outputs": [
    {
     "name": "stdout",
     "output_type": "stream",
     "text": [
      "size(mask_edit) = (345, 129, 6)\n"
     ]
    },
    {
     "data": {
      "text/plain": [
       "PyObject Text(0.5, 1.0, 'Mediterranean Sea Edited Mask')"
      ]
     },
     "metadata": {},
     "output_type": "display_data"
    }
   ],
   "source": [
    "# Plot the initial mask (surface level) for Mediterranean\n",
    "figure(\"Mediterranean-Mask\")\n",
    "ax = subplot(1,1,1)\n",
    "gca().set_aspect(aspectratio)\n",
    "ax.tick_params(\"both\",labelsize=6)\n",
    "pcolor(bx,by, transpose(mask[:,:,1])); \n",
    "title(\"Mediterranean Sea Initial Mask\")\n",
    "\n",
    "# Create coordinate grids for mask editing\n",
    "grid_bx = [i for i in bx, j in by];\n",
    "grid_by = [j for i in bx, j in by];\n",
    "\n",
    "# Edit the mask to remove specific regions (adapted for Mediterranean)\n",
    "mask_edit = copy(mask);\n",
    "# Remove Atlantic Ocean areas west of Gibraltar (longitude < -5.5°)\n",
    "sel_mask1 = (grid_bx .<= -5.5);  \n",
    "# Remove Black Sea connections (north of 42° and east of 27°)\n",
    "sel_mask2 = (grid_by .>= 42.0) .& (grid_bx .>= 27.0);\n",
    "# Remove areas that are too far north (> 45.5°) to focus on main Mediterranean basin\n",
    "sel_mask3 = (grid_by .>= 45.5);\n",
    "# Apply all mask edits\n",
    "mask_edit = mask_edit .* .!sel_mask1 .* .!sel_mask2 .* .!sel_mask3;\n",
    "@show size(mask_edit)\n",
    "\n",
    "# Plot the edited mask for Mediterranean\n",
    "figure(\"Mediterranean-Mask-Edited\")\n",
    "ax = subplot(1,1,1)\n",
    "ax.tick_params(\"both\",labelsize=6)\n",
    "pcolor(bx, by, transpose(mask_edit[:,:,1])); \n",
    "gca().set_aspect(aspectratio)\n",
    "title(\"Mediterranean Sea Edited Mask\")"
   ]
  },
  {
   "cell_type": "markdown",
   "id": "6569ef14",
   "metadata": {},
   "source": [
    "## 7. Data Quality Control and Filtering\n",
    "\n",
    "Filter the observational data to keep only realistic salinity values for the Adriatic Sea:"
   ]
  },
  {
   "cell_type": "code",
   "execution_count": 17,
   "id": "cf6d4e29",
   "metadata": {},
   "outputs": [],
   "source": [
    "## Filter observational data to keep only realistic salinity values\n",
    "#sel = (obsval .<= 40) .& (obsval .>= 25);  # Typical Adriatic Sea salinity range\n",
    "#\n",
    "## Apply the filter to all observation arrays\n",
    "#obsval = obsval[sel]\n",
    "#obslon = obslon[sel]\n",
    "#obslat = obslat[sel]\n",
    "#obsdepth = obsdepth[sel]\n",
    "#obstime = obstime[sel]\n",
    "#obsid = obsid[sel];"
   ]
  },
  {
   "cell_type": "markdown",
   "id": "7609d270",
   "metadata": {},
   "source": [
    "## 8. DIVAnd Analysis Parameters Configuration\n",
    "\n",
    "Set up the key parameters for the DIVAnd interpolation algorithm including correlation lengths and regularization:"
   ]
  },
  {
   "cell_type": "code",
   "execution_count": 18,
   "id": "0c3ae580",
   "metadata": {},
   "outputs": [
    {
     "data": {
      "text/plain": [
       "0.1"
      ]
     },
     "metadata": {},
     "output_type": "display_data"
    }
   ],
   "source": [
    "# Optional: Calculate observation weights based on data density\n",
    "# Uncommented code would create spatially varying error estimates\n",
    "#@time rdiag=1.0./DIVAnd.weight_RtimesOne((obslon,obslat),(0.03,0.03));\n",
    "#@show maximum(rdiag),mean(rdiag)\n",
    "\n",
    "# Define grid dimensions for parameter arrays\n",
    "sz = (length(lonr),length(latr),length(depthr));\n",
    "\n",
    "# Set correlation lengths (influence radius) for each dimension\n",
    "lenx = fill(100_000.,sz)   # 100 km correlation length in longitude direction\n",
    "leny = fill(100_000.,sz)   # 100 km correlation length in latitude direction  \n",
    "lenz = fill(25.,sz);       # 25 m correlation length in depth direction\n",
    "len = (lenx, leny, lenz);  # Combine into tuple for DIVAnd\n",
    "\n",
    "# Set noise-to-signal ratio (regularization parameter)\n",
    "epsilon2 = 0.1;            # Controls smoothness vs data fidelity tradeoff\n",
    "#epsilon2 = epsilon2 * rdiag;  # Optional: spatially varying epsilon"
   ]
  },
  {
   "cell_type": "markdown",
   "id": "41a951bd",
   "metadata": {},
   "source": [
    "## 9. Output File Setup and Metadata Configuration\n",
    "\n",
    "Configure the NetCDF output file structure and comprehensive metadata following SeaDataNet standards:"
   ]
  },
  {
   "cell_type": "code",
   "execution_count": 20,
   "id": "375b3f7a",
   "metadata": {},
   "outputs": [
    {
     "data": {
      "text/plain": [
       "\"./Water_body_Water_body_chlorophyll-aMed.4Danl.nc\""
      ]
     },
     "metadata": {},
     "output_type": "display_data"
    }
   ],
   "source": [
    "# Set up output directory and filename\n",
    "outputdir = \"./\"\n",
    "if !isdir(outputdir)\n",
    "    mkpath(outputdir)\n",
    "end\n",
    "filename = joinpath(outputdir, \"Water_body_$(replace(varname,\" \"=>\"_\"))Med.4Danl.nc\")"
   ]
  },
  {
   "cell_type": "code",
   "execution_count": 22,
   "id": "da61bab9",
   "metadata": {},
   "outputs": [],
   "source": [
    "# Define comprehensive metadata for NetCDF file following SeaDataNet standards\n",
    "metadata = OrderedDict(\n",
    "    # Name of the project (SeaDataCloud, SeaDataNet, EMODNET-chemistry, ...)\n",
    "    \"project\" => \"SeaDataCloud\",\n",
    "\n",
    "    # URN code for the institution EDMO registry,\n",
    "    # e.g. SDN:EDMO::1579\n",
    "    \"institution_urn\" => \"SDN:EDMO::1579\",\n",
    "\n",
    "    # Production group\n",
    "    #\"production\" => \"Diva group\",\n",
    "\n",
    "    # Name and emails from authors\n",
    "    \"Author_e-mail\" => [\"Your Name1 <name1@example.com>\", \"Other Name <name2@example.com>\"],\n",
    "\n",
    "    # Source of the observation\n",
    "    \"source\" => \"observational data from SeaDataNet and World Ocean Atlas\",\n",
    "\n",
    "    # Additional comment\n",
    "    \"comment\" => \"Duplicate removal applied to the merged dataset\",\n",
    "\n",
    "    # SeaDataNet Vocabulary P35 URN\n",
    "    # http://seadatanet.maris2.nl/v_bodc_vocab_v2/search.asp?lib=p35\n",
    "    # example: SDN:P35::WATERTEMP\n",
    "    \"parameter_keyword_urn\" => \"SDN:P35::EPC00001\",\n",
    "\n",
    "    # List of SeaDataNet Parameter Discovery Vocabulary P02 URNs\n",
    "    # http://seadatanet.maris2.nl/v_bodc_vocab_v2/search.asp?lib=p02\n",
    "    # example: [\"SDN:P02::TEMP\"]\n",
    "    \"search_keywords_urn\" => [\"SDN:P02::PSAL\"],\n",
    "\n",
    "    # List of SeaDataNet Vocabulary C19 area URNs\n",
    "    # SeaVoX salt and fresh water body gazetteer (C19)\n",
    "    # http://seadatanet.maris2.nl/v_bodc_vocab_v2/search.asp?lib=C19\n",
    "    # example: [\"SDN:C19::3_1\"]\n",
    "    \"area_keywords_urn\" => [\"SDN:C19::3_3\"],\n",
    "\n",
    "    \"product_version\" => \"1.0\",\n",
    "    \n",
    "    \"product_code\" => \"something-to-decide\",\n",
    "    \n",
    "    # bathymetry source acknowledgement\n",
    "    # see, e.g.\n",
    "    # * EMODnet Bathymetry Consortium (2016): EMODnet Digital Bathymetry (DTM).\n",
    "    # https://doi.org/10.12770/c7b53704-999d-4721-b1a3-04ec60c87238\n",
    "    # \n",
    "    # taken from\n",
    "    # http://www.emodnet-bathymetry.eu/data-products/acknowledgement-in-publications\n",
    "    #\n",
    "    # * The GEBCO Digital Atlas published by the British Oceanographic Data Centre on behalf of IOC and IHO, 2003\n",
    "    #\n",
    "    # taken from\n",
    "    # https://www.bodc.ac.uk/projects/data_management/international/gebco/gebco_digital_atlas/copyright_and_attribution/\n",
    "        \n",
    "    \"bathymetry_source\" => \"The GEBCO Digital Atlas published by the British Oceanographic Data Centre on behalf of IOC and IHO, 2003\",\n",
    "\n",
    "    # NetCDF CF standard name\n",
    "    # http://cfconventions.org/Data/cf-standard-names/current/build/cf-standard-name-table.html\n",
    "    # example \"standard_name\" = \"sea_water_temperature\",\n",
    "    \"netcdf_standard_name\" => \"sea_water_chlorophyll-a_concentration\",\n",
    "\n",
    "    \"netcdf_long_name\" => \"sea water chlorophyll-a concentration\",\n",
    "\n",
    "    \"netcdf_units\" => \"1e-3\",\n",
    "\n",
    "    # Abstract for the product\n",
    "    \"abstract\" => \"...\",\n",
    "\n",
    "    # This option provides a place to acknowledge various types of support for the\n",
    "    # project that produced the data\n",
    "    \"acknowledgement\" => \"...\",\n",
    "\n",
    "    \"documentation\" => \"https://doi.org/doi_of_doc\",\n",
    "\n",
    "    # Digital Object Identifier of the data product\n",
    "    \"doi\" => \"...\");"
   ]
  },
  {
   "cell_type": "code",
   "execution_count": 23,
   "id": "38c13a74",
   "metadata": {},
   "outputs": [],
   "source": [
    "# Convert metadata to NetCDF-compatible attributes\n",
    "ncglobalattrib, ncvarattrib = SDNMetadata(metadata, filename, varname, lonr, latr)\n",
    "\n",
    "# Remove any existing analysis file to start fresh\n",
    "if isfile(filename)\n",
    "    rm(filename) # delete the previous analysis\n",
    "    @info \"Removing file $filename\"\n",
    "end"
   ]
  },
  {
   "cell_type": "markdown",
   "id": "c6d9fc43",
   "metadata": {},
   "source": [
    "## 10. Plotting Function Definition\n",
    "\n",
    "Define a function to visualize the interpolation results for each time step and depth level during the analysis:"
   ]
  },
  {
   "cell_type": "code",
   "execution_count": 24,
   "id": "cef68686",
   "metadata": {},
   "outputs": [
    {
     "data": {
      "text/plain": [
       "plotres (generic function with 1 method)"
      ]
     },
     "metadata": {},
     "output_type": "display_data"
    }
   ],
   "source": [
    "# Set up figure output directory\n",
    "figdir = \"./\"\n",
    "\n",
    "# Define a function to plot interpolation results for each time step\n",
    "function plotres(timeindex,sel,fit,erri)\n",
    "    tmp = copy(fit)                            # Copy the fitted data to avoid modifying original\n",
    "    nx,ny,nz = size(tmp)                       # Get dimensions of the fitted data array\n",
    "    \n",
    "    for i in 1:nz                             # Loop through each depth level\n",
    "        figure(\"Adriatic-Additional-Data\")     # Create or select figure window\n",
    "        ax = subplot(1,1,1)                   # Create subplot\n",
    "        ax.tick_params(\"both\",labelsize=6)    # Set tick parameters\n",
    "        ylim(39.0, 46.0);                     # Set latitude limits\n",
    "        xlim(11.5, 20.0);                     # Set longitude limits\n",
    "        title(\"Depth: $(depthr[i]) \\n Time index: $(timeindex)\", fontsize=6)  # Add title with depth and time info\n",
    "        \n",
    "        # Create colored plot of the interpolated salinity field\n",
    "        pcolor(lonr.-dx/2.,latr.-dy/2, permutedims(tmp[:,:,i], [2,1]);\n",
    "               vmin = 33, vmax = 40)           # Set color scale limits for salinity\n",
    "        colorbar(extend=\"both\", orientation=\"vertical\", shrink=0.8).ax.tick_params(labelsize=8)\n",
    "\n",
    "        # Add land mask as gray contour \n",
    "        contourf(bx,by,permutedims(b,[2,1]), levels = [-1e5,0],colors = [[.5,.5,.5]])\n",
    "        aspectratio = 1/cos(mean(latr) * pi/180)  # Calculate proper aspect ratio\n",
    "        gca().set_aspect(aspectratio)\n",
    "        \n",
    "        # Save the figure with formatted filename\n",
    "        figname = varname * @sprintf(\"_%02d\",i) * @sprintf(\"_%03d.png\",timeindex)\n",
    "        PyPlot.savefig(joinpath(figdir, figname), dpi=600, bbox_inches=\"tight\");\n",
    "        PyPlot.close_figs()                   # Close figure to free memory\n",
    "    end\n",
    "end"
   ]
  },
  {
   "cell_type": "markdown",
   "id": "5fda9f19",
   "metadata": {},
   "source": [
    "## 11. Main DIVAnd Analysis Execution\n",
    "\n",
    "Execute the main 3D interpolation analysis using all the configured parameters and save the results:"
   ]
  },
  {
   "cell_type": "code",
   "execution_count": 25,
   "id": "ac4ffd61",
   "metadata": {},
   "outputs": [
    {
     "name": "stderr",
     "output_type": "stream",
     "text": [
      "┌ Info: Creating netCDF file ./Water_body_Water_body_chlorophyll-aMed.4Danl.nc\n",
      "└ @ DIVAnd C:\\Users\\nholodkov\\.julia\\packages\\DIVAnd\\4UymR\\src\\diva.jl:383\n",
      "┌ Info: Time step 1 / 4\n",
      "└ @ DIVAnd C:\\Users\\nholodkov\\.julia\\packages\\DIVAnd\\4UymR\\src\\diva.jl:436\n",
      "┌ Info: scaled correlation length (min,max) in dimension 1: (100000.0, 100000.0)\n",
      "└ @ DIVAnd C:\\Users\\nholodkov\\.julia\\packages\\DIVAnd\\4UymR\\src\\diva.jl:621\n",
      "┌ Info: scaled correlation length (min,max) in dimension 2: (100000.0, 100000.0)\n",
      "└ @ DIVAnd C:\\Users\\nholodkov\\.julia\\packages\\DIVAnd\\4UymR\\src\\diva.jl:621\n",
      "┌ Info: scaled correlation length (min,max) in dimension 3: (25.0, 25.0)\n",
      "└ @ DIVAnd C:\\Users\\nholodkov\\.julia\\packages\\DIVAnd\\4UymR\\src\\diva.jl:621\n",
      "┌ Warning: resolution (20.0) is too coarse for correlation length 25.0 in dimension 3 at indices CartesianIndex(201, 4, 4) (skipping further tests). It is recommended that the resolution is at least 2 times finer than the correlation length.\n",
      "└ @ DIVAnd C:\\Users\\nholodkov\\.julia\\packages\\DIVAnd\\4UymR\\src\\utils.jl:18\n",
      "┌ Info: number of windows: 4\n",
      "└ @ DIVAnd C:\\Users\\nholodkov\\.julia\\packages\\DIVAnd\\4UymR\\src\\DIVAndgo.jl:110\n",
      "┌ Warning: resolution (20.0) is too coarse for correlation length 25.0 in dimension 3 at indices CartesianIndex(201, 4, 4) (skipping further tests). It is recommended that the resolution is at least 2 times finer than the correlation length.\n",
      "└ @ DIVAnd C:\\Users\\nholodkov\\.julia\\packages\\DIVAnd\\4UymR\\src\\utils.jl:18\n",
      "┌ Info: number of windows: 4\n",
      "└ @ DIVAnd C:\\Users\\nholodkov\\.julia\\packages\\DIVAnd\\4UymR\\src\\DIVAndgo.jl:110\n",
      "┌ Info: Time step 2 / 4\n",
      "└ @ DIVAnd C:\\Users\\nholodkov\\.julia\\packages\\DIVAnd\\4UymR\\src\\diva.jl:436\n",
      "┌ Info: scaled correlation length (min,max) in dimension 1: (100000.0, 100000.0)\n",
      "└ @ DIVAnd C:\\Users\\nholodkov\\.julia\\packages\\DIVAnd\\4UymR\\src\\diva.jl:621\n",
      "┌ Info: scaled correlation length (min,max) in dimension 2: (100000.0, 100000.0)\n",
      "└ @ DIVAnd C:\\Users\\nholodkov\\.julia\\packages\\DIVAnd\\4UymR\\src\\diva.jl:621\n",
      "┌ Info: scaled correlation length (min,max) in dimension 3: (25.0, 25.0)\n",
      "└ @ DIVAnd C:\\Users\\nholodkov\\.julia\\packages\\DIVAnd\\4UymR\\src\\diva.jl:621\n",
      "┌ Warning: resolution (20.0) is too coarse for correlation length 25.0 in dimension 3 at indices CartesianIndex(201, 4, 4) (skipping further tests). It is recommended that the resolution is at least 2 times finer than the correlation length.\n",
      "└ @ DIVAnd C:\\Users\\nholodkov\\.julia\\packages\\DIVAnd\\4UymR\\src\\utils.jl:18\n",
      "┌ Info: number of windows: 4\n",
      "└ @ DIVAnd C:\\Users\\nholodkov\\.julia\\packages\\DIVAnd\\4UymR\\src\\DIVAndgo.jl:110\n",
      "┌ Warning: resolution (20.0) is too coarse for correlation length 25.0 in dimension 3 at indices CartesianIndex(201, 4, 4) (skipping further tests). It is recommended that the resolution is at least 2 times finer than the correlation length.\n",
      "└ @ DIVAnd C:\\Users\\nholodkov\\.julia\\packages\\DIVAnd\\4UymR\\src\\utils.jl:18\n",
      "┌ Info: number of windows: 4\n",
      "└ @ DIVAnd C:\\Users\\nholodkov\\.julia\\packages\\DIVAnd\\4UymR\\src\\DIVAndgo.jl:110\n",
      "┌ Info: Time step 3 / 4\n",
      "└ @ DIVAnd C:\\Users\\nholodkov\\.julia\\packages\\DIVAnd\\4UymR\\src\\diva.jl:436\n",
      "┌ Info: scaled correlation length (min,max) in dimension 1: (100000.0, 100000.0)\n",
      "└ @ DIVAnd C:\\Users\\nholodkov\\.julia\\packages\\DIVAnd\\4UymR\\src\\diva.jl:621\n",
      "┌ Info: scaled correlation length (min,max) in dimension 2: (100000.0, 100000.0)\n",
      "└ @ DIVAnd C:\\Users\\nholodkov\\.julia\\packages\\DIVAnd\\4UymR\\src\\diva.jl:621\n",
      "┌ Info: scaled correlation length (min,max) in dimension 3: (25.0, 25.0)\n",
      "└ @ DIVAnd C:\\Users\\nholodkov\\.julia\\packages\\DIVAnd\\4UymR\\src\\diva.jl:621\n",
      "┌ Warning: resolution (20.0) is too coarse for correlation length 25.0 in dimension 3 at indices CartesianIndex(201, 4, 4) (skipping further tests). It is recommended that the resolution is at least 2 times finer than the correlation length.\n",
      "└ @ DIVAnd C:\\Users\\nholodkov\\.julia\\packages\\DIVAnd\\4UymR\\src\\utils.jl:18\n",
      "┌ Info: number of windows: 4\n",
      "└ @ DIVAnd C:\\Users\\nholodkov\\.julia\\packages\\DIVAnd\\4UymR\\src\\DIVAndgo.jl:110\n",
      "┌ Warning: resolution (20.0) is too coarse for correlation length 25.0 in dimension 3 at indices CartesianIndex(201, 4, 4) (skipping further tests). It is recommended that the resolution is at least 2 times finer than the correlation length.\n",
      "└ @ DIVAnd C:\\Users\\nholodkov\\.julia\\packages\\DIVAnd\\4UymR\\src\\utils.jl:18\n",
      "┌ Info: number of windows: 4\n",
      "└ @ DIVAnd C:\\Users\\nholodkov\\.julia\\packages\\DIVAnd\\4UymR\\src\\DIVAndgo.jl:110\n",
      "┌ Info: Time step 4 / 4\n",
      "└ @ DIVAnd C:\\Users\\nholodkov\\.julia\\packages\\DIVAnd\\4UymR\\src\\diva.jl:436\n",
      "┌ Info: scaled correlation length (min,max) in dimension 1: (100000.0, 100000.0)\n",
      "└ @ DIVAnd C:\\Users\\nholodkov\\.julia\\packages\\DIVAnd\\4UymR\\src\\diva.jl:621\n",
      "┌ Info: scaled correlation length (min,max) in dimension 2: (100000.0, 100000.0)\n",
      "└ @ DIVAnd C:\\Users\\nholodkov\\.julia\\packages\\DIVAnd\\4UymR\\src\\diva.jl:621\n",
      "┌ Info: scaled correlation length (min,max) in dimension 3: (25.0, 25.0)\n",
      "└ @ DIVAnd C:\\Users\\nholodkov\\.julia\\packages\\DIVAnd\\4UymR\\src\\diva.jl:621\n",
      "┌ Warning: resolution (20.0) is too coarse for correlation length 25.0 in dimension 3 at indices CartesianIndex(201, 4, 4) (skipping further tests). It is recommended that the resolution is at least 2 times finer than the correlation length.\n",
      "└ @ DIVAnd C:\\Users\\nholodkov\\.julia\\packages\\DIVAnd\\4UymR\\src\\utils.jl:18\n",
      "┌ Info: number of windows: 4\n",
      "└ @ DIVAnd C:\\Users\\nholodkov\\.julia\\packages\\DIVAnd\\4UymR\\src\\DIVAndgo.jl:110\n",
      "┌ Warning: resolution (20.0) is too coarse for correlation length 25.0 in dimension 3 at indices CartesianIndex(201, 4, 4) (skipping further tests). It is recommended that the resolution is at least 2 times finer than the correlation length.\n",
      "└ @ DIVAnd C:\\Users\\nholodkov\\.julia\\packages\\DIVAnd\\4UymR\\src\\utils.jl:18\n",
      "┌ Info: number of windows: 4\n",
      "└ @ DIVAnd C:\\Users\\nholodkov\\.julia\\packages\\DIVAnd\\4UymR\\src\\DIVAndgo.jl:110\n"
     ]
    },
    {
     "name": "stdout",
     "output_type": "stream",
     "text": [
      "125.686676 seconds (123.22 M allocations: 137.832 GiB, 21.40% gc time, 26.68% compilation time)\n"
     ]
    }
   ],
   "source": [
    "# Execute the main DIVAnd 3D analysis\n",
    "@time dbinfo = diva3d((lonr,latr,depthr,TS),        # Grid coordinates and time selector\n",
    "    (obslon,obslat,obsdepth,obstime), obsval,        # Observation coordinates and values\n",
    "    len, epsilon2,                                    # Correlation lengths and regularization\n",
    "    filename,varname,                                 # Output file and variable name\n",
    "    bathname=bathname,                               # Bathymetry file for land/sea mask\n",
    "    #plotres = plotres,                               # Plotting function to call during analysis\n",
    "    mask = mask_edit,                                # Edited mask for analysis domain\n",
    "    fitcorrlen = false,                              # Don't fit correlation lengths automatically\n",
    "    niter_e = 2,                                     # Number of iterations for error estimation\n",
    "    ncvarattrib = ncvarattrib,                       # NetCDF variable attributes\n",
    "    ncglobalattrib = ncglobalattrib,                 # NetCDF global attributes\n",
    "    surfextend = true                                # Extend surface values to deeper levels if needed\n",
    "    );\n",
    "\n",
    "# Save observation metadata to the output file\n",
    "DIVAnd.saveobs(filename,(obslon,obslat,obsdepth,obstime),obsid);"
   ]
  }
 ],
 "metadata": {
  "kernelspec": {
   "display_name": "Julia 1.11.5",
   "language": "julia",
   "name": "julia-1.11"
  },
  "language_info": {
   "file_extension": ".jl",
   "mimetype": "application/julia",
   "name": "julia",
   "version": "1.11.5"
  }
 },
 "nbformat": 4,
 "nbformat_minor": 5
}
