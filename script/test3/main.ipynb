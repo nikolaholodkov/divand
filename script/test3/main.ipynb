{
 "cells": [
  {
   "cell_type": "markdown",
   "id": "f27c97e0",
   "metadata": {},
   "source": [
    "## **Section-by-Section Explanation:**\n",
    "\n",
    "### **1. Package Imports and Basic Setup**\n",
    "- Imports all required Julia packages for oceanographic data analysis\n",
    "- **Key packages**: DIVAnd (main interpolation algorithm), NCDatasets (NetCDF handling), PhysOcean (oceanographic utilities), PyPlot (visualization)\n",
    "\n",
    "### **2. Spatial and Temporal Domain Configuration**\n",
    "- Defines the analysis grid: longitude (11.5°-20°E), latitude (39°-46°N) with 0.125° resolution\n",
    "- Sets depth levels (simplified to 0m, 10m, 20m for faster computation)\n",
    "- Configures time periods (1950-2017) and seasonal groupings (quarterly)\n",
    "- Creates time selector for seasonal analysis\n",
    "\n",
    "### **3. Observational Data Download and Loading**\n",
    "- Downloads salinity observation data from SeaDataNet servers\n",
    "- Provides both small test dataset (1000 obs) and full dataset options\n",
    "- Loads observational data including coordinates, depths, times, and salinity values\n",
    "\n",
    "### **4. Observational Data Visualization and Quality Check**\n",
    "- Plots geographic distribution of observation points across the Adriatic Sea\n",
    "- Performs quality checks on the observational data for consistency\n",
    "- Calculates proper aspect ratio for accurate geographic visualization\n",
    "\n",
    "### **5. Bathymetry Data Processing**\n",
    "- Downloads GEBCO bathymetry data (seafloor depth information)\n",
    "- Interpolates bathymetry to the analysis grid\n",
    "- Visualizes the seafloor topography with coastline contours\n",
    "\n",
    "### **6. Analysis Domain Mask Creation and Editing**\n",
    "- Creates 3D masks defining valid analysis regions (water vs land)\n",
    "- Edits masks to exclude shallow northern areas and specific southern regions\n",
    "- Visualizes both original and edited masks for quality control\n",
    "\n",
    "### **7. Data Quality Control and Filtering**\n",
    "- Filters salinity observations to realistic ranges (25-40 PSU) for the Adriatic Sea\n",
    "- Removes outliers and unrealistic measurements\n",
    "- Applies filters to all related observation arrays consistently\n",
    "\n",
    "### **8. DIVAnd Analysis Parameters Configuration**\n",
    "- Sets correlation lengths: 100 km horizontally, 25 m vertically\n",
    "- Configures noise-to-signal ratio (epsilon2 = 0.1) for regularization\n",
    "- These parameters control how smoothly the interpolation varies in space\n",
    "\n",
    "### **9. Output File Setup and Metadata Configuration**\n",
    "- Sets up NetCDF output file structure\n",
    "- Defines comprehensive metadata following SeaDataNet standards\n",
    "- Includes project information, data sources, quality flags, and scientific attribution\n",
    "\n",
    "### **10. Plotting Function Definition**\n",
    "- Creates a function to visualize interpolation results during analysis\n",
    "- Generates plots for each depth level and time step\n",
    "- Saves high-resolution figures with proper geographic projection and color scaling\n",
    "\n",
    "### **11. Main DIVAnd Analysis Execution**\n",
    "- Executes the main 3D interpolation using all configured parameters\n",
    "- Uses `diva3d()` function with observation data, grid, correlation lengths, and masks\n",
    "- Saves interpolated salinity fields and observation metadata to NetCDF file\n",
    "\n",
    "## **Key Scientific Concepts:**\n",
    "\n",
    "- **DIVAnd**: Data-Interpolating Variational Analysis - a sophisticated method for creating gridded fields from scattered observations\n",
    "- **Correlation lengths**: Define how far the influence of each observation extends\n",
    "- **Regularization**: Balances fitting the data vs creating smooth fields\n",
    "- **Masks**: Ensure analysis only occurs in valid ocean regions\n",
    "- **Quality control**: Essential for removing erroneous measurements\n",
    "\n",
    "This workflow transforms sparse, irregularly distributed salinity measurements into a complete 3D+time gridded dataset suitable for oceanographic research and climate studies."
   ]
  },
  {
   "cell_type": "markdown",
   "id": "bc6c5f19",
   "metadata": {},
   "source": [
    "# DIVAnd Oceanographic Data Analysis - Adriatic Sea Salinity\n",
    "\n",
    "This notebook performs a 3D oceanographic data analysis using DIVAnd (Data-Interpolating Variational Analysis in n-dimensions) to interpolate salinity data in the Adriatic Sea. The analysis creates spatially and temporally resolved salinity fields from sparse observational data.\n",
    "\n",
    "## Workflow Overview:\n",
    "1. **Setup & Configuration** - Import packages and define analysis parameters\n",
    "2. **Data Acquisition** - Download observational and bathymetry data\n",
    "3. **Data Visualization** - Plot observation locations and bathymetry\n",
    "4. **Domain Preparation** - Create and edit analysis masks\n",
    "5. **Data Quality Control** - Filter observations for realistic values\n",
    "6. **Analysis Parameters** - Configure DIVAnd correlation lengths and regularization\n",
    "7. **Output Configuration** - Set up NetCDF file structure and metadata\n",
    "8. **Analysis Execution** - Run the main DIVAnd interpolation"
   ]
  },
  {
   "cell_type": "markdown",
   "id": "2283b1b3",
   "metadata": {},
   "source": [
    "## 1. Package Imports and Basic Setup\n",
    "\n",
    "Import all required Julia packages for oceanographic data analysis:"
   ]
  },
  {
   "cell_type": "code",
   "execution_count": null,
   "id": "20769c92",
   "metadata": {
    "vscode": {
     "languageId": "julia"
    }
   },
   "outputs": [],
   "source": [
    "# Import required Julia packages for oceanographic data analysis\n",
    "using NCDatasets      # For reading and writing NetCDF files\n",
    "using PhysOcean       # Physical oceanography utilities\n",
    "using DataStructures  # For ordered dictionaries and other data structures\n",
    "using DIVAnd          # Data-Interpolating Variational Analysis in n-dimensions\n",
    "using PyPlot          # Plotting library (matplotlib wrapper)\n",
    "using Dates           # Date and time handling\n",
    "using Statistics      # Statistical functions (mean, etc.)\n",
    "using Random          # Random number generation\n",
    "using Printf          # String formatting with printf-style syntax"
   ]
  },
  {
   "cell_type": "markdown",
   "id": "183d62d9",
   "metadata": {},
   "source": [
    "## 2. Spatial and Temporal Domain Configuration\n",
    "\n",
    "Define the analysis grid parameters, spatial boundaries, and time periods:"
   ]
  },
  {
   "cell_type": "code",
   "execution_count": null,
   "id": "c34a17af",
   "metadata": {
    "vscode": {
     "languageId": "julia"
    }
   },
   "outputs": [],
   "source": [
    "# Define spatial grid parameters for the Adriatic Sea analysis\n",
    "dx, dy = 0.125, 0.125  # Grid resolution in degrees (longitude, latitude)\n",
    "lonr = 11.5:dx:20      # Longitude range from 11.5° to 20° E with 0.125° spacing\n",
    "latr = 39:dy:46        # Latitude range from 39° to 46° N with 0.125° spacing\n",
    "timerange = [Date(1950,1,1),Date(2017,12,31)];  # Time period for analysis\n",
    "\n",
    "# Define depth levels for 3D analysis (in meters)\n",
    "# Full depth range commented out, using simplified 3-level version\n",
    "depthr = [0.,5., 10., 15., 20., 25., 30., 40., 50., 66, \n",
    "    75, 85, 100, 112, 125, 135, 150, 175, 200, 225, 250, \n",
    "    275, 300, 350, 400, 450, 500, 550, 600, 650, 700, 750, \n",
    "    800, 850, 900, 950, 1000, 1050, 1100, 1150, 1200, 1250, \n",
    "    1300, 1350, 1400, 1450, 1500, 1600, 1750, 1850, 2000];\n",
    "depthr = [0.,10.,20.];  # Simplified to 3 depth levels: surface, 10m, 20m\n",
    "\n",
    "# Define analysis parameters\n",
    "varname = \"Salinity\"    # Variable being analyzed\n",
    "yearlist = [1900:2017]; # Years to include in analysis\n",
    "monthlist = [[1,2,3],[4,5,6],[7,8,9],[10,11,12]]; # Seasonal groupings (quarters)\n",
    "\n",
    "# Create time selector for seasonal analysis\n",
    "TS = DIVAnd.TimeSelectorYearListMonthList(yearlist,monthlist);\n",
    "@show TS;"
   ]
  },
  {
   "cell_type": "markdown",
   "id": "f13158e6",
   "metadata": {},
   "source": [
    "## 3. Observational Data Download and Loading\n",
    "\n",
    "Download salinity observation data from SeaDataNet. Two datasets are available:\n",
    "- Small test dataset (1000 observations) for quick testing\n",
    "- Full dataset for complete analysis"
   ]
  },
  {
   "cell_type": "code",
   "execution_count": null,
   "id": "6c189dd8",
   "metadata": {
    "vscode": {
     "languageId": "julia"
    }
   },
   "outputs": [],
   "source": [
    "# Set up directory paths for data files\n",
    "datadir = \"./\"\n",
    "smalldatafile = joinpath(datadir, \"AdriaticSea_SDC_1000.nc\")  # Test dataset with 1000 observations\n",
    "datafile = joinpath(datadir, \"AdriaticSea_SDC.nc\")             # Full dataset\n",
    "\n",
    "# Create data directory if it doesn't exist\n",
    "if !isdir(datadir)\n",
    "    @info(\"Creating data directory\")\n",
    "    mkdir(datadir) \n",
    "end\n",
    "\n",
    "# Download small test dataset (1000 observations) if not already present\n",
    "if !isfile(smalldatafile)\n",
    "    @info(\"Downloading test data file (1000 lines)\")\n",
    "    download(\"https://dox.ulg.ac.be/index.php/s/1CevuhrnDW18fJT/download\", smalldatafile)\n",
    "else\n",
    "    @info(\"Data file already downloaded\")\n",
    "end\n",
    "\n",
    "# Download full dataset if not already present\n",
    "if !isfile(datafile)\n",
    "    @info(\"Downloading data file\")\n",
    "    download(\"https://dox.ulg.ac.be/index.php/s/IRYJyNZ5KuKVoQL/download\", datafile)\n",
    "else\n",
    "    @info(\"Data file already downloaded\")\n",
    "end"
   ]
  },
  {
   "cell_type": "code",
   "execution_count": null,
   "id": "452a2281",
   "metadata": {
    "vscode": {
     "languageId": "julia"
    }
   },
   "outputs": [],
   "source": [
    "# Load observational data from NetCDF files\n",
    "# First load from small dataset (for testing)\n",
    "@time obsval,obslon,obslat,obsdepth,obstime,obsid = NCODV.load(Float64, smalldatafile, \n",
    "    \"Water body salinity\");\n",
    "\n",
    "# Then load from full dataset (overwrites the small dataset variables)\n",
    "@time obsval,obslon,obslat,obsdepth,obstime,obsid = NCODV.load(Float64, datafile, \n",
    "    \"Water body salinity\");"
   ]
  },
  {
   "cell_type": "markdown",
   "id": "83cb7027",
   "metadata": {},
   "source": [
    "## 4. Observational Data Visualization and Quality Check\n",
    "\n",
    "Plot the geographic distribution of observation points and perform basic quality checks:"
   ]
  },
  {
   "cell_type": "code",
   "execution_count": null,
   "id": "c8fc72cc",
   "metadata": {
    "vscode": {
     "languageId": "julia"
    }
   },
   "outputs": [],
   "source": [
    "# Create a figure showing the geographic distribution of observation points\n",
    "figure(\"Adriatic-Data\")\n",
    "ax = subplot(1,1,1)\n",
    "plot(obslon, obslat, \"ko\", markersize=.1)  # Plot observation locations as small black dots\n",
    "aspectratio = 1/cos(mean(latr) * pi/180)   # Calculate proper aspect ratio for latitude\n",
    "ax.tick_params(\"both\",labelsize=6)\n",
    "gca().set_aspect(aspectratio)\n",
    "\n",
    "# Check quality and consistency of observations\n",
    "checkobs((obslon,obslat,obsdepth,obstime),obsval,obsid)"
   ]
  },
  {
   "cell_type": "markdown",
   "id": "066a27b0",
   "metadata": {},
   "source": [
    "## 5. Bathymetry Data Processing\n",
    "\n",
    "Download and process bathymetry (seafloor depth) data needed for creating land/sea masks:"
   ]
  },
  {
   "cell_type": "code",
   "execution_count": null,
   "id": "e41f592f",
   "metadata": {
    "vscode": {
     "languageId": "julia"
    }
   },
   "outputs": [],
   "source": [
    "# Download bathymetry data (seafloor depth) for the region\n",
    "bathname = \"gebco_30sec_8.nc\"\n",
    "if !isfile(bathname)\n",
    "    download(\"https://dox.ulg.ac.be/index.php/s/U0pqyXhcQrXjEUX/download\",bathname)\n",
    "else\n",
    "    @info(\"Bathymetry file already downloaded\")\n",
    "end\n",
    "\n",
    "# Load bathymetry data and interpolate to our grid\n",
    "@time bx,by,b = load_bath(bathname,true,lonr,latr);"
   ]
  },
  {
   "cell_type": "code",
   "execution_count": null,
   "id": "95372477",
   "metadata": {
    "vscode": {
     "languageId": "julia"
    }
   },
   "outputs": [],
   "source": [
    "# Plot the bathymetry data\n",
    "figure(\"Adriatic-Bathymetry\")\n",
    "ax = subplot(1,1,1)\n",
    "pcolor(bx, by, permutedims(b, [2,1]));  # Create colored map of bathymetry\n",
    "colorbar(orientation=\"vertical\", shrink=0.8).ax.tick_params(labelsize=8)\n",
    "contour(bx, by, permutedims(b, [2,1]), [0, 0.1], colors=\"k\", linewidths=.5)  # Add coastline contour\n",
    "gca().set_aspect(aspectratio)\n",
    "ax.tick_params(\"both\",labelsize=6)"
   ]
  },
  {
   "cell_type": "markdown",
   "id": "4d9d9b1c",
   "metadata": {},
   "source": [
    "## 6. Analysis Domain Mask Creation and Editing\n",
    "\n",
    "Create 3D masks that define where the analysis should be performed (water vs land) and edit them to exclude specific regions:"
   ]
  },
  {
   "cell_type": "code",
   "execution_count": null,
   "id": "b090a883",
   "metadata": {
    "vscode": {
     "languageId": "julia"
    }
   },
   "outputs": [],
   "source": [
    "# Create a 3D mask for the analysis domain\n",
    "# This mask determines which grid points are valid for analysis (water vs land)\n",
    "mask = falses(size(b,1),size(b,2),length(depthr))\n",
    "for k = 1:length(depthr)\n",
    "    for j = 1:size(b,2)\n",
    "        for i = 1:size(b,1)\n",
    "            mask[i,j,k] = b[i,j] >= depthr[k]  # True where water depth >= analysis depth\n",
    "        end\n",
    "    end\n",
    "end\n",
    "@show size(mask)"
   ]
  },
  {
   "cell_type": "code",
   "execution_count": null,
   "id": "24189f7e",
   "metadata": {
    "vscode": {
     "languageId": "julia"
    }
   },
   "outputs": [],
   "source": [
    "# Plot the initial mask (surface level)\n",
    "figure(\"Adriatic-Mask\")\n",
    "ax = subplot(1,1,1)\n",
    "gca().set_aspect(aspectratio)\n",
    "ax.tick_params(\"both\",labelsize=6)\n",
    "pcolor(bx,by, transpose(mask[:,:,1])); \n",
    "\n",
    "# Create coordinate grids for mask editing\n",
    "grid_bx = [i for i in bx, j in by];\n",
    "grid_by = [j for i in bx, j in by];\n",
    "\n",
    "# Edit the mask to remove specific regions\n",
    "mask_edit = copy(mask);\n",
    "sel_mask1 = (grid_by .<= 42.6) .& (grid_bx .<= 14.);  # Remove northern shallow areas\n",
    "sel_mask2 = (grid_by .<= 41.2) .& (grid_bx .<= 16.2); # Remove central/southern regions\n",
    "mask_edit = mask_edit .* .!sel_mask1 .* .!sel_mask2;   # Apply logical NOT and multiply\n",
    "@show size(mask_edit)\n",
    "\n",
    "# Plot the edited mask\n",
    "figure(\"Adriatic-Mask-Edited\")\n",
    "ax = subplot(1,1,1)\n",
    "ax.tick_params(\"both\",labelsize=6)\n",
    "pcolor(bx, by, transpose(mask[:,:,1])); \n",
    "gca().set_aspect(aspectratio)"
   ]
  },
  {
   "cell_type": "markdown",
   "id": "6569ef14",
   "metadata": {},
   "source": [
    "## 7. Data Quality Control and Filtering\n",
    "\n",
    "Filter the observational data to keep only realistic salinity values for the Adriatic Sea:"
   ]
  },
  {
   "cell_type": "code",
   "execution_count": null,
   "id": "cf6d4e29",
   "metadata": {
    "vscode": {
     "languageId": "julia"
    }
   },
   "outputs": [],
   "source": [
    "# Filter observational data to keep only realistic salinity values\n",
    "sel = (obsval .<= 40) .& (obsval .>= 25);  # Typical Adriatic Sea salinity range\n",
    "\n",
    "# Apply the filter to all observation arrays\n",
    "obsval = obsval[sel]\n",
    "obslon = obslon[sel]\n",
    "obslat = obslat[sel]\n",
    "obsdepth = obsdepth[sel]\n",
    "obstime = obstime[sel]\n",
    "obsid = obsid[sel];"
   ]
  },
  {
   "cell_type": "markdown",
   "id": "7609d270",
   "metadata": {},
   "source": [
    "## 8. DIVAnd Analysis Parameters Configuration\n",
    "\n",
    "Set up the key parameters for the DIVAnd interpolation algorithm including correlation lengths and regularization:"
   ]
  },
  {
   "cell_type": "code",
   "execution_count": null,
   "id": "0c3ae580",
   "metadata": {
    "vscode": {
     "languageId": "julia"
    }
   },
   "outputs": [],
   "source": [
    "# Optional: Calculate observation weights based on data density\n",
    "# Uncommented code would create spatially varying error estimates\n",
    "#@time rdiag=1.0./DIVAnd.weight_RtimesOne((obslon,obslat),(0.03,0.03));\n",
    "#@show maximum(rdiag),mean(rdiag)\n",
    "\n",
    "# Define grid dimensions for parameter arrays\n",
    "sz = (length(lonr),length(latr),length(depthr));\n",
    "\n",
    "# Set correlation lengths (influence radius) for each dimension\n",
    "lenx = fill(100_000.,sz)   # 100 km correlation length in longitude direction\n",
    "leny = fill(100_000.,sz)   # 100 km correlation length in latitude direction  \n",
    "lenz = fill(25.,sz);       # 25 m correlation length in depth direction\n",
    "len = (lenx, leny, lenz);  # Combine into tuple for DIVAnd\n",
    "\n",
    "# Set noise-to-signal ratio (regularization parameter)\n",
    "epsilon2 = 0.1;            # Controls smoothness vs data fidelity tradeoff\n",
    "#epsilon2 = epsilon2 * rdiag;  # Optional: spatially varying epsilon"
   ]
  },
  {
   "cell_type": "markdown",
   "id": "41a951bd",
   "metadata": {},
   "source": [
    "## 9. Output File Setup and Metadata Configuration\n",
    "\n",
    "Configure the NetCDF output file structure and comprehensive metadata following SeaDataNet standards:"
   ]
  },
  {
   "cell_type": "code",
   "execution_count": null,
   "id": "375b3f7a",
   "metadata": {
    "vscode": {
     "languageId": "julia"
    }
   },
   "outputs": [],
   "source": [
    "# Set up output directory and filename\n",
    "outputdir = \"./\"\n",
    "if !isdir(outputdir)\n",
    "    mkpath(outputdir)\n",
    "end\n",
    "filename = joinpath(outputdir, \"Water_body_$(replace(varname,\" \"=>\"_\"))_Adriatic.4Danl.nc\")"
   ]
  },
  {
   "cell_type": "code",
   "execution_count": null,
   "id": "da61bab9",
   "metadata": {
    "vscode": {
     "languageId": "julia"
    }
   },
   "outputs": [],
   "source": [
    "# Define comprehensive metadata for NetCDF file following SeaDataNet standards\n",
    "metadata = OrderedDict(\n",
    "    # Name of the project (SeaDataCloud, SeaDataNet, EMODNET-chemistry, ...)\n",
    "    \"project\" => \"SeaDataCloud\",\n",
    "\n",
    "    # URN code for the institution EDMO registry,\n",
    "    # e.g. SDN:EDMO::1579\n",
    "    \"institution_urn\" => \"SDN:EDMO::1579\",\n",
    "\n",
    "    # Production group\n",
    "    #\"production\" => \"Diva group\",\n",
    "\n",
    "    # Name and emails from authors\n",
    "    \"Author_e-mail\" => [\"Your Name1 <name1@example.com>\", \"Other Name <name2@example.com>\"],\n",
    "\n",
    "    # Source of the observation\n",
    "    \"source\" => \"observational data from SeaDataNet and World Ocean Atlas\",\n",
    "\n",
    "    # Additional comment\n",
    "    \"comment\" => \"Duplicate removal applied to the merged dataset\",\n",
    "\n",
    "    # SeaDataNet Vocabulary P35 URN\n",
    "    # http://seadatanet.maris2.nl/v_bodc_vocab_v2/search.asp?lib=p35\n",
    "    # example: SDN:P35::WATERTEMP\n",
    "    \"parameter_keyword_urn\" => \"SDN:P35::EPC00001\",\n",
    "\n",
    "    # List of SeaDataNet Parameter Discovery Vocabulary P02 URNs\n",
    "    # http://seadatanet.maris2.nl/v_bodc_vocab_v2/search.asp?lib=p02\n",
    "    # example: [\"SDN:P02::TEMP\"]\n",
    "    \"search_keywords_urn\" => [\"SDN:P02::PSAL\"],\n",
    "\n",
    "    # List of SeaDataNet Vocabulary C19 area URNs\n",
    "    # SeaVoX salt and fresh water body gazetteer (C19)\n",
    "    # http://seadatanet.maris2.nl/v_bodc_vocab_v2/search.asp?lib=C19\n",
    "    # example: [\"SDN:C19::3_1\"]\n",
    "    \"area_keywords_urn\" => [\"SDN:C19::3_3\"],\n",
    "\n",
    "    \"product_version\" => \"1.0\",\n",
    "    \n",
    "    \"product_code\" => \"something-to-decide\",\n",
    "    \n",
    "    # bathymetry source acknowledgement\n",
    "    # see, e.g.\n",
    "    # * EMODnet Bathymetry Consortium (2016): EMODnet Digital Bathymetry (DTM).\n",
    "    # https://doi.org/10.12770/c7b53704-999d-4721-b1a3-04ec60c87238\n",
    "    # \n",
    "    # taken from\n",
    "    # http://www.emodnet-bathymetry.eu/data-products/acknowledgement-in-publications\n",
    "    #\n",
    "    # * The GEBCO Digital Atlas published by the British Oceanographic Data Centre on behalf of IOC and IHO, 2003\n",
    "    #\n",
    "    # taken from\n",
    "    # https://www.bodc.ac.uk/projects/data_management/international/gebco/gebco_digital_atlas/copyright_and_attribution/\n",
    "        \n",
    "    \"bathymetry_source\" => \"The GEBCO Digital Atlas published by the British Oceanographic Data Centre on behalf of IOC and IHO, 2003\",\n",
    "\n",
    "    # NetCDF CF standard name\n",
    "    # http://cfconventions.org/Data/cf-standard-names/current/build/cf-standard-name-table.html\n",
    "    # example \"standard_name\" = \"sea_water_temperature\",\n",
    "    \"netcdf_standard_name\" => \"sea_water_salinity\",\n",
    "\n",
    "    \"netcdf_long_name\" => \"sea water salinity\",\n",
    "\n",
    "    \"netcdf_units\" => \"1e-3\",\n",
    "\n",
    "    # Abstract for the product\n",
    "    \"abstract\" => \"...\",\n",
    "\n",
    "    # This option provides a place to acknowledge various types of support for the\n",
    "    # project that produced the data\n",
    "    \"acknowledgement\" => \"...\",\n",
    "\n",
    "    \"documentation\" => \"https://doi.org/doi_of_doc\",\n",
    "\n",
    "    # Digital Object Identifier of the data product\n",
    "    \"doi\" => \"...\");"
   ]
  },
  {
   "cell_type": "code",
   "execution_count": null,
   "id": "38c13a74",
   "metadata": {
    "vscode": {
     "languageId": "julia"
    }
   },
   "outputs": [],
   "source": [
    "# Convert metadata to NetCDF-compatible attributes\n",
    "ncglobalattrib, ncvarattrib = SDNMetadata(metadata, filename, varname, lonr, latr)\n",
    "\n",
    "# Remove any existing analysis file to start fresh\n",
    "if isfile(filename)\n",
    "    rm(filename) # delete the previous analysis\n",
    "    @info \"Removing file $filename\"\n",
    "end"
   ]
  },
  {
   "cell_type": "markdown",
   "id": "c6d9fc43",
   "metadata": {},
   "source": [
    "## 10. Plotting Function Definition\n",
    "\n",
    "Define a function to visualize the interpolation results for each time step and depth level during the analysis:"
   ]
  },
  {
   "cell_type": "code",
   "execution_count": null,
   "id": "cef68686",
   "metadata": {
    "vscode": {
     "languageId": "julia"
    }
   },
   "outputs": [],
   "source": [
    "# Set up figure output directory\n",
    "figdir = \"./\"\n",
    "\n",
    "# Define a function to plot interpolation results for each time step\n",
    "function plotres(timeindex,sel,fit,erri)\n",
    "    tmp = copy(fit)                            # Copy the fitted data to avoid modifying original\n",
    "    nx,ny,nz = size(tmp)                       # Get dimensions of the fitted data array\n",
    "    \n",
    "    for i in 1:nz                             # Loop through each depth level\n",
    "        figure(\"Adriatic-Additional-Data\")     # Create or select figure window\n",
    "        ax = subplot(1,1,1)                   # Create subplot\n",
    "        ax.tick_params(\"both\",labelsize=6)    # Set tick parameters\n",
    "        ylim(39.0, 46.0);                     # Set latitude limits\n",
    "        xlim(11.5, 20.0);                     # Set longitude limits\n",
    "        title(\"Depth: $(depthr[i]) \\n Time index: $(timeindex)\", fontsize=6)  # Add title with depth and time info\n",
    "        \n",
    "        # Create colored plot of the interpolated salinity field\n",
    "        pcolor(lonr.-dx/2.,latr.-dy/2, permutedims(tmp[:,:,i], [2,1]);\n",
    "               vmin = 33, vmax = 40)           # Set color scale limits for salinity\n",
    "        colorbar(extend=\"both\", orientation=\"vertical\", shrink=0.8).ax.tick_params(labelsize=8)\n",
    "\n",
    "        # Add land mask as gray contour \n",
    "        contourf(bx,by,permutedims(b,[2,1]), levels = [-1e5,0],colors = [[.5,.5,.5]])\n",
    "        aspectratio = 1/cos(mean(latr) * pi/180)  # Calculate proper aspect ratio\n",
    "        gca().set_aspect(aspectratio)\n",
    "        \n",
    "        # Save the figure with formatted filename\n",
    "        figname = varname * @sprintf(\"_%02d\",i) * @sprintf(\"_%03d.png\",timeindex)\n",
    "        PyPlot.savefig(joinpath(figdir, figname), dpi=600, bbox_inches=\"tight\");\n",
    "        PyPlot.close_figs()                   # Close figure to free memory\n",
    "    end\n",
    "end"
   ]
  },
  {
   "cell_type": "markdown",
   "id": "5fda9f19",
   "metadata": {},
   "source": [
    "## 11. Main DIVAnd Analysis Execution\n",
    "\n",
    "Execute the main 3D interpolation analysis using all the configured parameters and save the results:"
   ]
  },
  {
   "cell_type": "code",
   "execution_count": null,
   "id": "ac4ffd61",
   "metadata": {
    "vscode": {
     "languageId": "julia"
    }
   },
   "outputs": [],
   "source": [
    "# Execute the main DIVAnd 3D analysis\n",
    "@time dbinfo = diva3d((lonr,latr,depthr,TS),        # Grid coordinates and time selector\n",
    "    (obslon,obslat,obsdepth,obstime), obsval,        # Observation coordinates and values\n",
    "    len, epsilon2,                                    # Correlation lengths and regularization\n",
    "    filename,varname,                                 # Output file and variable name\n",
    "    bathname=bathname,                               # Bathymetry file for land/sea mask\n",
    "    plotres = plotres,                               # Plotting function to call during analysis\n",
    "    mask = mask_edit,                                # Edited mask for analysis domain\n",
    "    fitcorrlen = false,                              # Don't fit correlation lengths automatically\n",
    "    niter_e = 2,                                     # Number of iterations for error estimation\n",
    "    ncvarattrib = ncvarattrib,                       # NetCDF variable attributes\n",
    "    ncglobalattrib = ncglobalattrib,                 # NetCDF global attributes\n",
    "    surfextend = true                                # Extend surface values to deeper levels if needed\n",
    "    );\n",
    "\n",
    "# Save observation metadata to the output file\n",
    "DIVAnd.saveobs(filename,(obslon,obslat,obsdepth,obstime),obsid);"
   ]
  }
 ],
 "metadata": {
  "language_info": {
   "name": "python"
  }
 },
 "nbformat": 4,
 "nbformat_minor": 5
}
