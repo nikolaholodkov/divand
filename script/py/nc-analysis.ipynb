{
 "cells": [
  {
   "cell_type": "code",
   "execution_count": 2,
   "id": "bc7971fa-6ccb-4a89-abb1-c99e42bd7e67",
   "metadata": {
    "tags": []
   },
   "outputs": [
    {
     "name": "stdout",
     "output_type": "stream",
     "text": [
      "Total valid Water_body_chlorophyll_a observations: 14291\n",
      "Observations with QC = 1: 13470\n"
     ]
    }
   ],
   "source": [
    "import netCDF4 as nc\n",
    "import numpy as np\n",
    "\n",
    "# Replace with your NetCDF file path\n",
    "file_path = './nc/phosphorus.nc'\n",
    "\n",
    "# Open the NetCDF file\n",
    "with nc.Dataset(file_path, 'r') as ds:\n",
    "    chl = ds.variables['Water_body_total_phosphorus'][:]\n",
    "    qc = ds.variables['Water_body_total_phosphorus_qc'][:]\n",
    "\n",
    "    # Handle masked arrays or NaNs\n",
    "    if np.ma.is_masked(chl):\n",
    "        valid_mask = ~chl.mask\n",
    "    else:\n",
    "        valid_mask = ~np.isnan(chl)\n",
    "\n",
    "    # Count valid chlorophyll observations\n",
    "    total_valid_obs = np.sum(valid_mask)\n",
    "\n",
    "    # Apply mask to QC values\n",
    "    valid_qc = qc[valid_mask]\n",
    "\n",
    "    # Count QC==1 among valid observations\n",
    "    qc_passed = np.sum(valid_qc == 49)\n",
    "\n",
    "print(f\"Total valid Water_body_chlorophyll_a observations: {total_valid_obs}\")\n",
    "print(f\"Observations with QC = 1: {qc_passed}\")\n"
   ]
  },
  {
   "cell_type": "code",
   "execution_count": 4,
   "id": "970950a5-3602-4a4f-96b9-135c67c20ca2",
   "metadata": {
    "tags": []
   },
   "outputs": [
    {
     "name": "stdout",
     "output_type": "stream",
     "text": [
      "QC variable dtype: int8\n",
      "Unique QC values: [49 50 51 52 53 54 81]\n",
      "flag_values: [48 49 50 51 52 53 54 55 56 57 65 66 81]\n",
      "flag_meanings: no_quality_control good_value probably_good_value probably_bad_value bad_value changed_value value_below_detection value_in_excess interpolated_value missing_value value_phenomenon_uncertain nominal_value value_below_limit_of_quantification\n",
      "long_name: Quality flag of Water body chlorophyll-a\n",
      "standard_name: status_flag\n"
     ]
    }
   ],
   "source": [
    "import netCDF4 as nc\n",
    "import numpy as np\n",
    "\n",
    "# Path to your NetCDF file\n",
    "file_path = './nc/data3.nc'\n",
    "\n",
    "with nc.Dataset(file_path, 'r') as ds:\n",
    "    # Access the QC variable\n",
    "    qc_var = ds.variables['Water_body_chlorophyll_a_qc']\n",
    "    qc_data = qc_var[:]\n",
    "\n",
    "    # If masked array, get only valid data\n",
    "    qc_values = qc_data.compressed() if np.ma.is_masked(qc_data) else qc_data.flatten()\n",
    "\n",
    "    # Print basic summary\n",
    "    print(\"QC variable dtype:\", qc_data.dtype)\n",
    "    print(\"Unique QC values:\", np.unique(qc_values))\n",
    "\n",
    "    # Print metadata if available\n",
    "    for attr in ['flag_values', 'flag_meanings', 'long_name', 'standard_name', 'units']:\n",
    "        if hasattr(qc_var, attr):\n",
    "            print(f\"{attr}: {getattr(qc_var, attr)}\")\n"
   ]
  }
 ],
 "metadata": {
  "kernelspec": {
   "display_name": "Python [conda env:base] *",
   "language": "python",
   "name": "conda-base-py"
  },
  "language_info": {
   "codemirror_mode": {
    "name": "ipython",
    "version": 3
   },
   "file_extension": ".py",
   "mimetype": "text/x-python",
   "name": "python",
   "nbconvert_exporter": "python",
   "pygments_lexer": "ipython3",
   "version": "3.10.11"
  }
 },
 "nbformat": 4,
 "nbformat_minor": 5
}
